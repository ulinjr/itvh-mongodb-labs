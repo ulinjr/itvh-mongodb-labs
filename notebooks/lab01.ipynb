{
  "cells": [
    {
      "cell_type": "markdown",
      "metadata": {},
      "source": [
        "# Lab01 — Verificación y primer consulta\n",
        "Este notebook acompaña al capítulo *Lab01*.\n"
      ]
    },
    {
      "cell_type": "code",
      "execution_count": null,
      "metadata": {},
      "outputs": [],
      "source": [
        "from pymongo import MongoClient\n",
        "\n",
        "# Conexión local por defecto: mongodb://localhost:27017\n",
        "# Si usas Atlas, reemplaza por tu cadena de conexión.\n",
        "client = MongoClient()\n",
        "\n",
        "# Ping al servidor para validar conectividad\n",
        "client.admin.command(\"ping\")\n",
        "print(\"✅ Conexión a MongoDB OK\")\n",
        "\n",
        "# Diagnóstico rápido\n",
        "print(\"Bases de datos disponibles:\", client.list_database_names())"
      ]
    },
    {
      "cell_type": "code",
      "execution_count": null,
      "metadata": {},
      "outputs": [],
      "source": [
        "from pprint import pprint\n",
        "\n",
        "db = client[\"Biblioteca\"]\n",
        "col = db[\"Libros\"]\n",
        "\n",
        "print(\"Total documentos:\", col.count_documents({}))\n",
        "for doc in col.find({}):\n",
        "    pprint(doc)"
      ]
    }
  ],
  "metadata": {
    "kernelspec": {
      "display_name": "Python 3",
      "language": "python",
      "name": "python3"
    },
    "language_info": {
      "name": "python",
      "version": "3.12"
    }
  },
  "nbformat": 4,
  "nbformat_minor": 5
}